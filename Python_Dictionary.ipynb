{
  "nbformat": 4,
  "nbformat_minor": 0,
  "metadata": {
    "colab": {
      "provenance": []
    },
    "kernelspec": {
      "name": "python3",
      "display_name": "Python 3"
    },
    "language_info": {
      "name": "python"
    }
  },
  "cells": [
    {
      "cell_type": "markdown",
      "source": [
        "# Dictionary\n",
        "Dictionaries are used to store data values in key:value pairs.\n",
        "\n",
        "A dictionary is a collection which is ordered, changeable and do not allow duplicates(keys).\n",
        "\n",
        "Characteristics\n",
        "\n",
        "- Mutable\n",
        "- Indexing has no meaning -> simply can get value using key\n",
        "\n",
        "- keys cant be dublicated\n",
        "- keys cant be mutable items\n",
        "\n",
        "\n"
      ],
      "metadata": {
        "id": "bRtPhjJKpV-m"
      }
    },
    {
      "cell_type": "markdown",
      "source": [
        "#Create Dictionary"
      ],
      "metadata": {
        "id": "wCPyTglTqjUm"
      }
    },
    {
      "cell_type": "code",
      "source": [
        "#empty dictionary\n",
        "d = {}\n",
        "\n",
        "# 1d dictionary\n",
        "d = {\"name\" : \"Suvro\" , \"Age\" : 23 , \"gender\" : \"Male\"}\n",
        "print(d)\n",
        "\n",
        "# 2d  dictionary -> Json Format\n",
        "\n",
        "student = {\n",
        "    \"name\" : \"Suvro\" ,\n",
        "    \"College\" : \"NIT KURUKSHETRA\" ,\n",
        "    \"Semester\" : 4 ,\n",
        "    \"Subjects\" : {\n",
        "          'Dsa' : 100,\n",
        "          'Python' : 100,\n",
        "          'Java' : 100\n",
        "    }\n",
        "}\n",
        "\n",
        "#Using dict function making dictionary\n",
        "d4 = dict([(1,1) , (2,2) , (3,3)])\n",
        "print(d4)\n",
        "\n",
        "# mutable itema are not allowed\n",
        "d6 = {'name' :'Suvro' , [1,2,3,4] : 'Hello'}\n"
      ],
      "metadata": {
        "colab": {
          "base_uri": "https://localhost:8080/",
          "height": 211
        },
        "id": "z6Zupw1Pqi9s",
        "outputId": "7745f961-8115-4017-e663-c4ec33ec29f4"
      },
      "execution_count": 5,
      "outputs": [
        {
          "output_type": "stream",
          "name": "stdout",
          "text": [
            "{'name': 'Suvro', 'Age': 23, 'gender': 'Male'}\n",
            "{1: 1, 2: 2, 3: 3}\n"
          ]
        },
        {
          "output_type": "error",
          "ename": "TypeError",
          "evalue": "unhashable type: 'list'",
          "traceback": [
            "\u001b[0;31m---------------------------------------------------------------------------\u001b[0m",
            "\u001b[0;31mTypeError\u001b[0m                                 Traceback (most recent call last)",
            "\u001b[0;32m/tmp/ipython-input-5-3405903590.py\u001b[0m in \u001b[0;36m<cell line: 0>\u001b[0;34m()\u001b[0m\n\u001b[1;32m     24\u001b[0m \u001b[0;34m\u001b[0m\u001b[0m\n\u001b[1;32m     25\u001b[0m \u001b[0;31m# mutable itema are not allowed\u001b[0m\u001b[0;34m\u001b[0m\u001b[0;34m\u001b[0m\u001b[0m\n\u001b[0;32m---> 26\u001b[0;31m \u001b[0md6\u001b[0m \u001b[0;34m=\u001b[0m \u001b[0;34m{\u001b[0m\u001b[0;34m'name'\u001b[0m \u001b[0;34m:\u001b[0m\u001b[0;34m'Suvro'\u001b[0m \u001b[0;34m,\u001b[0m \u001b[0;34m[\u001b[0m\u001b[0;36m1\u001b[0m\u001b[0;34m,\u001b[0m\u001b[0;36m2\u001b[0m\u001b[0;34m,\u001b[0m\u001b[0;36m3\u001b[0m\u001b[0;34m,\u001b[0m\u001b[0;36m4\u001b[0m\u001b[0;34m]\u001b[0m \u001b[0;34m:\u001b[0m \u001b[0;34m'Hello'\u001b[0m\u001b[0;34m}\u001b[0m\u001b[0;34m\u001b[0m\u001b[0;34m\u001b[0m\u001b[0m\n\u001b[0m",
            "\u001b[0;31mTypeError\u001b[0m: unhashable type: 'list'"
          ]
        }
      ]
    },
    {
      "cell_type": "markdown",
      "source": [
        "# Accessing Items"
      ],
      "metadata": {
        "id": "G73IqA0bsVma"
      }
    },
    {
      "cell_type": "code",
      "source": [
        "my_dict = {'name' : 'Jack' , 'age' : 26}\n",
        "\n",
        "'''\n",
        "  we can access value by my_dict[ KeyName ]\n",
        "  Also We can use get Function -> my_dict.get(KeyName)\n",
        "\n",
        "'''\n",
        "print(my_dict['name'])\n",
        "print(my_dict.get('age'))\n"
      ],
      "metadata": {
        "colab": {
          "base_uri": "https://localhost:8080/"
        },
        "id": "73wN-F12sVGy",
        "outputId": "31946efb-0e90-492b-dec5-676e961364c6"
      },
      "execution_count": 6,
      "outputs": [
        {
          "output_type": "stream",
          "name": "stdout",
          "text": [
            "Jack\n",
            "26\n"
          ]
        }
      ]
    },
    {
      "cell_type": "markdown",
      "source": [
        "#Editing Key-value\n",
        "- We can only Edit value not Key because keys are immutable"
      ],
      "metadata": {
        "id": "sdDo4tymy6qi"
      }
    },
    {
      "cell_type": "code",
      "source": [
        "my_dict['name'] = 'Suvro'\n",
        "print(my_dict)"
      ],
      "metadata": {
        "colab": {
          "base_uri": "https://localhost:8080/"
        },
        "id": "OCGREG6ry6O5",
        "outputId": "f389cf10-541d-4b2a-b7e9-33d12cc586f8"
      },
      "execution_count": 16,
      "outputs": [
        {
          "output_type": "stream",
          "name": "stdout",
          "text": [
            "{'name': 'Suvro', 'age': 26, 'gender': 'male'}\n"
          ]
        }
      ]
    },
    {
      "cell_type": "markdown",
      "source": [
        "#Adding key-value"
      ],
      "metadata": {
        "id": "9VEVkkOjtIUG"
      }
    },
    {
      "cell_type": "code",
      "source": [
        "my_dict['gender'] = 'male'\n",
        "print(my_dict)"
      ],
      "metadata": {
        "colab": {
          "base_uri": "https://localhost:8080/"
        },
        "id": "Zh6zxpvLtH4k",
        "outputId": "c9b1d455-dc2b-4bd0-d566-78c56fbe1a62"
      },
      "execution_count": 8,
      "outputs": [
        {
          "output_type": "stream",
          "name": "stdout",
          "text": [
            "{'name': 'Suvro', 'age': 26, 'gender': 'male'}\n"
          ]
        }
      ]
    },
    {
      "cell_type": "markdown",
      "source": [
        "#Deleting Elements"
      ],
      "metadata": {
        "id": "iK-UyG9lynvx"
      }
    },
    {
      "cell_type": "code",
      "execution_count": 14,
      "metadata": {
        "colab": {
          "base_uri": "https://localhost:8080/"
        },
        "id": "TjKtpgrAoydu",
        "outputId": "78f1543c-eb41-4194-9363-029ff0cdb75c"
      },
      "outputs": [
        {
          "output_type": "stream",
          "name": "stdout",
          "text": [
            "{'name': 'Suvro', 'Age': 23, 'gender': 'Male'}\n",
            "{'name': 'Suvro', 'Age': 23}\n",
            "{'name': 'Suvro'}\n"
          ]
        }
      ],
      "source": [
        "d = {\"name\" : \"Suvro\" , \"Age\" : 23 , \"gender\" : \"Male\"}\n",
        "print(d)\n",
        "\n",
        "#pop\n",
        "d.pop(\"gender\")  # -> delete and returns value\n",
        "print(d)\n",
        "\n",
        "#popitem -> Deletes Last Key value pair and returns its value\n",
        "d.popitem()\n",
        "print(d)\n",
        "\n",
        "#del -> can be delete whole dict or any key->value pair\n",
        "del d['name']\n",
        "\n",
        "\n",
        "#clear -> Clears all key->value pair left only empty dict\n",
        "d.clear()\n",
        "\n"
      ]
    },
    {
      "cell_type": "markdown",
      "source": [
        "#Operations in Dictionary\n",
        "- Membership\n",
        "- Iteration"
      ],
      "metadata": {
        "id": "hhzyS6yLydF_"
      }
    },
    {
      "cell_type": "code",
      "source": [
        "d = {\"name\" : \"Suvro\" , \"Age\" : 23 , \"gender\" : \"Male\"}\n",
        "\n",
        "print(\"name\" in d)"
      ],
      "metadata": {
        "colab": {
          "base_uri": "https://localhost:8080/"
        },
        "id": "MiC8qznSycuB",
        "outputId": "a0d79676-07ee-4095-f479-04eaac17ded7"
      },
      "execution_count": 18,
      "outputs": [
        {
          "output_type": "stream",
          "name": "stdout",
          "text": [
            "True\n"
          ]
        }
      ]
    },
    {
      "cell_type": "code",
      "source": [
        "for i in d:\n",
        "  print(i)   #only prints keys\n",
        "\n",
        "\n",
        "for i in d:\n",
        "  print(i,\":\",d[i])  # -> to get values also"
      ],
      "metadata": {
        "colab": {
          "base_uri": "https://localhost:8080/"
        },
        "id": "mbXTbUnSzrU1",
        "outputId": "47a552ed-5a97-4e10-cfc7-3851707dd07e"
      },
      "execution_count": 22,
      "outputs": [
        {
          "output_type": "stream",
          "name": "stdout",
          "text": [
            "name\n",
            "Age\n",
            "gender\n",
            "name : Suvro\n",
            "Age : 23\n",
            "gender : Male\n"
          ]
        }
      ]
    },
    {
      "cell_type": "markdown",
      "source": [
        "#Dictionary Functions"
      ],
      "metadata": {
        "id": "EQRJwtRV0S9V"
      }
    },
    {
      "cell_type": "code",
      "source": [
        "#len/Sorted\n",
        "d = {\"name\" : \"Suvro\" , \"Age\" : 23 , \"gender\" : \"Male\"}\n",
        "\n",
        "print(len(d))\n",
        "print(sorted(d)) #Sorts bases on Key  and  returns list of those keys"
      ],
      "metadata": {
        "colab": {
          "base_uri": "https://localhost:8080/"
        },
        "id": "IPeo1dfe0Vc8",
        "outputId": "c3fcc38a-791a-4d15-ddda-c438571c065a"
      },
      "execution_count": 24,
      "outputs": [
        {
          "output_type": "stream",
          "name": "stdout",
          "text": [
            "3\n",
            "['Age', 'gender', 'name']\n"
          ]
        }
      ]
    },
    {
      "cell_type": "code",
      "source": [
        "# items ,  keys  , values\n",
        "'''\n",
        "  d.items() -> returns  a list which contains tuples of key->valuesof 2 elements\n",
        "  d.keys() -> returns  a  list of keys\n",
        "  d.values() -> returns a list of values\n",
        "  These are super Useful Functions\n",
        "\n",
        "'''\n",
        "\n",
        "print(d.items())\n",
        "print(d.keys())\n",
        "print(d.values())\n"
      ],
      "metadata": {
        "colab": {
          "base_uri": "https://localhost:8080/"
        },
        "id": "gILxPG-B0o6D",
        "outputId": "cce9aa7c-3b5a-4d7b-8012-07112aac0682"
      },
      "execution_count": 28,
      "outputs": [
        {
          "output_type": "stream",
          "name": "stdout",
          "text": [
            "dict_items([('name', 'Suvro'), ('Age', 23), ('gender', 'Male')])\n",
            "dict_keys(['name', 'Age', 'gender'])\n",
            "dict_values(['Suvro', 23, 'Male'])\n"
          ]
        }
      ]
    },
    {
      "cell_type": "markdown",
      "source": [
        "# Dictionary Comprehention\n",
        "![image.png](data:image/png;base64,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)"
      ],
      "metadata": {
        "id": "evYkdgNE1mHe"
      }
    },
    {
      "cell_type": "code",
      "source": [
        "{i:i**2 for i in range(1,11)}"
      ],
      "metadata": {
        "colab": {
          "base_uri": "https://localhost:8080/"
        },
        "id": "PYviLsgQ1ycP",
        "outputId": "fd9a901a-fa54-44f9-9ef2-8a7c04b950e7"
      },
      "execution_count": 30,
      "outputs": [
        {
          "output_type": "execute_result",
          "data": {
            "text/plain": [
              "{1: 1, 2: 4, 3: 9, 4: 16, 5: 25, 6: 36, 7: 49, 8: 64, 9: 81, 10: 100}"
            ]
          },
          "metadata": {},
          "execution_count": 30
        }
      ]
    },
    {
      "cell_type": "code",
      "source": [
        "#using  existing dict\n",
        "\n",
        "distances  ={'delhi':1000 ,'mumbai':2000,'bangalore':3000}\n",
        "\n",
        "{i:distances[i]*0.62 for i in distances}\n",
        "\n",
        "{key:value*0.62 for (key,value) in distances.items()}\n",
        "\n"
      ],
      "metadata": {
        "colab": {
          "base_uri": "https://localhost:8080/"
        },
        "id": "NrJ99Qug2MAd",
        "outputId": "b5be0000-bd93-4dfa-a9fb-bd0b50c50eac"
      },
      "execution_count": 35,
      "outputs": [
        {
          "output_type": "execute_result",
          "data": {
            "text/plain": [
              "{'delhi': 620.0, 'mumbai': 1240.0, 'bangalore': 1860.0}"
            ]
          },
          "metadata": {},
          "execution_count": 35
        }
      ]
    },
    {
      "cell_type": "code",
      "source": [
        "#using Zip\n",
        "\n",
        "weekdays = [\"Monday\", \"Tuesday\", \"Wednesday\", \"Thursday\", \"Friday\", \"Saturday\", \"Sunday\"]\n",
        "temperatures_c = [32, 34, 33, 31, 30, 35, 36]\n",
        "\n",
        "dict(zip(weekdays,temperatures_c))\n",
        "{i:j for(i,j) in zip(weekdays,temperatures_c)}\n",
        "\n"
      ],
      "metadata": {
        "colab": {
          "base_uri": "https://localhost:8080/"
        },
        "id": "b_IUoU-b3c8k",
        "outputId": "8a9e4f1c-2902-4564-8947-65bb0fc59133"
      },
      "execution_count": 39,
      "outputs": [
        {
          "output_type": "execute_result",
          "data": {
            "text/plain": [
              "{'Monday': 32,\n",
              " 'Tuesday': 34,\n",
              " 'Wednesday': 33,\n",
              " 'Thursday': 31,\n",
              " 'Friday': 30,\n",
              " 'Saturday': 35,\n",
              " 'Sunday': 36}"
            ]
          },
          "metadata": {},
          "execution_count": 39
        }
      ]
    },
    {
      "cell_type": "code",
      "source": [
        "#using with if condition\n",
        "\n",
        "products = {\n",
        "    \"Laptop\": 55000,\n",
        "    \"Smartphone\": 25000,\n",
        "    \"Headphones\": 1500,\n",
        "    \"Keyboard\": 700,\n",
        "    \"Mouse\": 500,\n",
        "    \"Monitor\": 12000,\n",
        "    \"External Hard Drive\": 4000,\n",
        "    \"Webcam\": 1800,\n",
        "    \"Desk Lamp\": 900,\n",
        "    \"USB-C Cable\": 300\n",
        "}\n",
        "\n",
        "{key:value for (key,value) in products.items() if value > 10000}\n",
        "\n",
        "\n"
      ],
      "metadata": {
        "colab": {
          "base_uri": "https://localhost:8080/"
        },
        "id": "3OmSKaze4j1N",
        "outputId": "652f7c8b-3bb6-47ad-ca09-7a15acdfc5bc"
      },
      "execution_count": 40,
      "outputs": [
        {
          "output_type": "execute_result",
          "data": {
            "text/plain": [
              "{'Laptop': 55000, 'Smartphone': 25000, 'Monitor': 12000}"
            ]
          },
          "metadata": {},
          "execution_count": 40
        }
      ]
    },
    {
      "cell_type": "code",
      "source": [
        "#Nested Comprehenstion\n",
        "\n",
        "products = {\n",
        "    \"Laptop\": {\n",
        "        \"price\": 55000,\n",
        "        \"stock\": 10,\n",
        "        \"category\": \"Electronics\"\n",
        "    },\n",
        "    \"Smartphone\": {\n",
        "        \"price\": 25000,\n",
        "        \"stock\": 15,\n",
        "        \"category\": \"Electronics\"\n",
        "    },\n",
        "    \"Headphones\": {\n",
        "        \"price\": 1500,\n",
        "        \"stock\": 30,\n",
        "        \"category\": \"Accessories\"\n",
        "    },\n",
        "    \"Desk Lamp\": {\n",
        "        \"price\": 900,\n",
        "        \"stock\": 20,\n",
        "        \"category\": \"Home Essentials\"\n",
        "    },\n",
        "    \"Notebook\": {\n",
        "        \"price\": 50,\n",
        "        \"stock\": 100,\n",
        "        \"category\": \"Stationery\"\n",
        "    }\n",
        "}\n",
        "\n",
        "{i: {\n",
        "\n",
        "} for i, j in products.items() if j['stock'] > 20}\n",
        "\n",
        "\n",
        "\n",
        "\n",
        "\n"
      ],
      "metadata": {
        "colab": {
          "base_uri": "https://localhost:8080/"
        },
        "id": "j5BZ2hs_49_T",
        "outputId": "68434880-6187-4696-e943-a822fe900929"
      },
      "execution_count": 47,
      "outputs": [
        {
          "output_type": "execute_result",
          "data": {
            "text/plain": [
              "{'Headphones': {'price': 1500, 'stock': 30, 'category': 'Accessories'},\n",
              " 'Notebook': {'price': 50, 'stock': 100, 'category': 'Stationery'}}"
            ]
          },
          "metadata": {},
          "execution_count": 47
        }
      ]
    }
  ]
}