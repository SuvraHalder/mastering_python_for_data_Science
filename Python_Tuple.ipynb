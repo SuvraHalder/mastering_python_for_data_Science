{
  "nbformat": 4,
  "nbformat_minor": 0,
  "metadata": {
    "colab": {
      "provenance": []
    },
    "kernelspec": {
      "name": "python3",
      "display_name": "Python 3"
    },
    "language_info": {
      "name": "python"
    }
  },
  "cells": [
    {
      "cell_type": "markdown",
      "source": [
        "#Creating Tuples"
      ],
      "metadata": {
        "id": "anuSygYdQJWA"
      }
    },
    {
      "cell_type": "code",
      "execution_count": 10,
      "metadata": {
        "colab": {
          "base_uri": "https://localhost:8080/"
        },
        "id": "CtHauEgLNZ4f",
        "outputId": "7bd0c2f8-d098-48f9-bd62-71382204cf18"
      },
      "outputs": [
        {
          "output_type": "stream",
          "name": "stdout",
          "text": [
            "<class 'tuple'>\n",
            "<class 'tuple'>\n",
            "<class 'tuple'>\n",
            "<class 'tuple'>\n",
            "<class 'tuple'>\n"
          ]
        }
      ],
      "source": [
        "#empty\n",
        "t1=()\n",
        "print(type(t1))\n",
        "\n",
        "#create a tuple with a single item\n",
        "t2 = (\"Hello\",)\n",
        "print(type(t2))\n",
        "\n",
        "#homogenous tuple\n",
        "t3 = (1,2,3,4)\n",
        "print(type(t3))\n",
        "\n",
        "#heterogeneous Tuple\n",
        "t4 = (1,1.5,\"Hello\")\n",
        "print(type(t4))\n",
        "\n",
        "#2-D tuple\n",
        "t5= (1,2,3,(4,5))\n",
        "print(type(t5))\n"
      ]
    },
    {
      "cell_type": "markdown",
      "source": [
        "# Accessing Items\n",
        "\n",
        "- **Indexing**\n",
        "- **Slicing**"
      ],
      "metadata": {
        "id": "VOH1C0bIUqi5"
      }
    },
    {
      "cell_type": "code",
      "source": [
        "print(t3)\n",
        "print(t3[0])\n",
        "print(t3[-1])"
      ],
      "metadata": {
        "colab": {
          "base_uri": "https://localhost:8080/"
        },
        "id": "_y1QDwjwTxvs",
        "outputId": "9dbddbc8-5be6-4cde-8df6-4a0827f1cffb"
      },
      "execution_count": 11,
      "outputs": [
        {
          "output_type": "stream",
          "name": "stdout",
          "text": [
            "(1, 2, 3, 4)\n",
            "1\n",
            "4\n"
          ]
        }
      ]
    },
    {
      "cell_type": "code",
      "source": [
        "t3[::-1]"
      ],
      "metadata": {
        "colab": {
          "base_uri": "https://localhost:8080/"
        },
        "id": "VYCeQFAhWN2h",
        "outputId": "8a8b620d-524e-4918-edc8-c92432598604"
      },
      "execution_count": 12,
      "outputs": [
        {
          "output_type": "execute_result",
          "data": {
            "text/plain": [
              "(4, 3, 2, 1)"
            ]
          },
          "metadata": {},
          "execution_count": 12
        }
      ]
    },
    {
      "cell_type": "markdown",
      "source": [
        "# Editing Items\n",
        "Tuple items  cannot be changed once it is initialized . (Immutable)"
      ],
      "metadata": {
        "id": "LUOuh9CIWZDu"
      }
    },
    {
      "cell_type": "code",
      "source": [
        "print(t3)\n",
        "t3[0] = 100"
      ],
      "metadata": {
        "colab": {
          "base_uri": "https://localhost:8080/",
          "height": 176
        },
        "id": "veqlgk1mWUl-",
        "outputId": "94905d77-6249-4712-87c0-bc225c817d95"
      },
      "execution_count": 13,
      "outputs": [
        {
          "output_type": "stream",
          "name": "stdout",
          "text": [
            "(1, 2, 3, 4)\n"
          ]
        },
        {
          "output_type": "error",
          "ename": "TypeError",
          "evalue": "'tuple' object does not support item assignment",
          "traceback": [
            "\u001b[0;31m---------------------------------------------------------------------------\u001b[0m",
            "\u001b[0;31mTypeError\u001b[0m                                 Traceback (most recent call last)",
            "\u001b[0;32m/tmp/ipython-input-13-3056965634.py\u001b[0m in \u001b[0;36m<cell line: 0>\u001b[0;34m()\u001b[0m\n\u001b[1;32m      1\u001b[0m \u001b[0mprint\u001b[0m\u001b[0;34m(\u001b[0m\u001b[0mt3\u001b[0m\u001b[0;34m)\u001b[0m\u001b[0;34m\u001b[0m\u001b[0;34m\u001b[0m\u001b[0m\n\u001b[0;32m----> 2\u001b[0;31m \u001b[0mt3\u001b[0m\u001b[0;34m[\u001b[0m\u001b[0;36m0\u001b[0m\u001b[0;34m]\u001b[0m \u001b[0;34m=\u001b[0m \u001b[0;36m100\u001b[0m\u001b[0;34m\u001b[0m\u001b[0;34m\u001b[0m\u001b[0m\n\u001b[0m",
            "\u001b[0;31mTypeError\u001b[0m: 'tuple' object does not support item assignment"
          ]
        }
      ]
    },
    {
      "cell_type": "markdown",
      "source": [
        "# Adding Items\n",
        "Cant Add also  because Tuple is Immutable."
      ],
      "metadata": {
        "id": "4A8MwWddWxEM"
      }
    },
    {
      "cell_type": "markdown",
      "source": [
        "# Deletion\n",
        "Cant delete  single member  ,  But we Can Delete  whole Tuple ."
      ],
      "metadata": {
        "id": "IBKIqQLHW6hL"
      }
    },
    {
      "cell_type": "code",
      "source": [
        "del t2[0]"
      ],
      "metadata": {
        "colab": {
          "base_uri": "https://localhost:8080/",
          "height": 141
        },
        "id": "wwJII_07Ww0r",
        "outputId": "5f2f4bb2-4cca-413b-e469-acd31c5b79ba"
      },
      "execution_count": 14,
      "outputs": [
        {
          "output_type": "error",
          "ename": "TypeError",
          "evalue": "'tuple' object doesn't support item deletion",
          "traceback": [
            "\u001b[0;31m---------------------------------------------------------------------------\u001b[0m",
            "\u001b[0;31mTypeError\u001b[0m                                 Traceback (most recent call last)",
            "\u001b[0;32m/tmp/ipython-input-14-1541075065.py\u001b[0m in \u001b[0;36m<cell line: 0>\u001b[0;34m()\u001b[0m\n\u001b[0;32m----> 1\u001b[0;31m \u001b[0;32mdel\u001b[0m \u001b[0mt2\u001b[0m\u001b[0;34m[\u001b[0m\u001b[0;36m0\u001b[0m\u001b[0;34m]\u001b[0m\u001b[0;34m\u001b[0m\u001b[0;34m\u001b[0m\u001b[0m\n\u001b[0m",
            "\u001b[0;31mTypeError\u001b[0m: 'tuple' object doesn't support item deletion"
          ]
        }
      ]
    },
    {
      "cell_type": "code",
      "source": [
        "del t2\n",
        "print(t2)"
      ],
      "metadata": {
        "colab": {
          "base_uri": "https://localhost:8080/",
          "height": 158
        },
        "id": "W3znjkcbWrKf",
        "outputId": "72083468-9af9-424c-e432-4322249453f6"
      },
      "execution_count": 16,
      "outputs": [
        {
          "output_type": "error",
          "ename": "NameError",
          "evalue": "name 't2' is not defined",
          "traceback": [
            "\u001b[0;31m---------------------------------------------------------------------------\u001b[0m",
            "\u001b[0;31mNameError\u001b[0m                                 Traceback (most recent call last)",
            "\u001b[0;32m/tmp/ipython-input-16-2763271117.py\u001b[0m in \u001b[0;36m<cell line: 0>\u001b[0;34m()\u001b[0m\n\u001b[0;32m----> 1\u001b[0;31m \u001b[0;32mdel\u001b[0m \u001b[0mt2\u001b[0m\u001b[0;34m\u001b[0m\u001b[0;34m\u001b[0m\u001b[0m\n\u001b[0m\u001b[1;32m      2\u001b[0m \u001b[0mprint\u001b[0m\u001b[0;34m(\u001b[0m\u001b[0mt2\u001b[0m\u001b[0;34m)\u001b[0m\u001b[0;34m\u001b[0m\u001b[0;34m\u001b[0m\u001b[0m\n",
            "\u001b[0;31mNameError\u001b[0m: name 't2' is not defined"
          ]
        }
      ]
    },
    {
      "cell_type": "markdown",
      "source": [
        "# Operations on Tuple\n",
        "\n",
        "- \" + \" and \" * \"\n",
        "- membership operators\n",
        "- iterations"
      ],
      "metadata": {
        "id": "6YLtPKE6XayP"
      }
    },
    {
      "cell_type": "code",
      "source": [
        "t1 = (1,2,3,4)\n",
        "t2 = (5,6,7,8)\n",
        "print(t1+t2)"
      ],
      "metadata": {
        "colab": {
          "base_uri": "https://localhost:8080/"
        },
        "id": "s5M73DKCYKU8",
        "outputId": "8a8614d0-511b-47d4-9469-f1b73e337053"
      },
      "execution_count": 17,
      "outputs": [
        {
          "output_type": "stream",
          "name": "stdout",
          "text": [
            "(1, 2, 3, 4, 5, 6, 7, 8)\n"
          ]
        }
      ]
    },
    {
      "cell_type": "code",
      "source": [
        "# membership\n",
        "print(1 in t1)\n",
        "print(2 in t2)"
      ],
      "metadata": {
        "colab": {
          "base_uri": "https://localhost:8080/"
        },
        "id": "09lVUdlzYTqv",
        "outputId": "fe85d68d-aed9-408c-bb39-8df1cfc141d5"
      },
      "execution_count": 21,
      "outputs": [
        {
          "output_type": "stream",
          "name": "stdout",
          "text": [
            "True\n",
            "False\n"
          ]
        }
      ]
    },
    {
      "cell_type": "code",
      "source": [
        "#Iterations\n",
        "\n",
        "for i in t1:\n",
        "  print(i,end=\" \")"
      ],
      "metadata": {
        "colab": {
          "base_uri": "https://localhost:8080/"
        },
        "id": "_CybodxKYsNK",
        "outputId": "b44c61d0-0b9d-41de-8eb8-8f357cf12ba9"
      },
      "execution_count": 24,
      "outputs": [
        {
          "output_type": "stream",
          "name": "stdout",
          "text": [
            "1 2 3 4 "
          ]
        }
      ]
    },
    {
      "cell_type": "markdown",
      "source": [
        "# Tuple Functions\n"
      ],
      "metadata": {
        "id": "x0RGvwgGY654"
      }
    },
    {
      "cell_type": "code",
      "source": [
        "#len/sum/min/max/sorted\n",
        "\n",
        "t= (1,2,3,4)\n",
        "\n",
        "print(len(t))\n",
        "\n",
        "print(sum(t))\n",
        "\n",
        "print(min(t))\n",
        "\n",
        "print(max(t))\n",
        "\n",
        "print(sorted(t))\n",
        "print(sorted(t,reverse = True)) # Returns List"
      ],
      "metadata": {
        "colab": {
          "base_uri": "https://localhost:8080/"
        },
        "id": "DiN_8tE_Y_v8",
        "outputId": "99b45d2b-4d33-4031-ffb0-c1a5079cb214"
      },
      "execution_count": 30,
      "outputs": [
        {
          "output_type": "stream",
          "name": "stdout",
          "text": [
            "4\n",
            "10\n",
            "1\n",
            "4\n",
            "[1, 2, 3, 4]\n",
            "[4, 3, 2, 1]\n"
          ]
        }
      ]
    },
    {
      "cell_type": "code",
      "source": [
        "# Count\n",
        "\n",
        "t.count(5)"
      ],
      "metadata": {
        "colab": {
          "base_uri": "https://localhost:8080/"
        },
        "id": "dQW9oQ57ZjOs",
        "outputId": "fb8d8c53-cca2-4484-c82d-94376d2f325d"
      },
      "execution_count": 31,
      "outputs": [
        {
          "output_type": "execute_result",
          "data": {
            "text/plain": [
              "0"
            ]
          },
          "metadata": {},
          "execution_count": 31
        }
      ]
    },
    {
      "cell_type": "code",
      "source": [
        "#index\n",
        "t.index(1)"
      ],
      "metadata": {
        "colab": {
          "base_uri": "https://localhost:8080/"
        },
        "id": "o5wq672taNnY",
        "outputId": "b42863d1-a050-4850-f9e9-0b25a105837b"
      },
      "execution_count": 32,
      "outputs": [
        {
          "output_type": "execute_result",
          "data": {
            "text/plain": [
              "0"
            ]
          },
          "metadata": {},
          "execution_count": 32
        }
      ]
    },
    {
      "cell_type": "markdown",
      "source": [
        "# Diffrence Between List and Tuple\n",
        "- Syntax (List ->[ ] and Tuple ->( ) )\n",
        "- Mutability(List Are Mutable but Tuples are not)\n",
        "- Speed (Tuples are Faster than List )\n",
        "- Memory ( Tuple Takes less Space )\n",
        "- Built in Functionality\n",
        "- Error prone (List are more Error prone because of mutability)\n",
        "- Usability(for read-only we use  tuple)\n"
      ],
      "metadata": {
        "id": "7HY8B862aZde"
      }
    },
    {
      "cell_type": "markdown",
      "source": [
        "# Tuple Unpacking"
      ],
      "metadata": {
        "id": "3BYeqlQNcX2Z"
      }
    },
    {
      "cell_type": "code",
      "source": [
        "a,b,c  = (1,2,3)\n",
        "print(a,b,c)"
      ],
      "metadata": {
        "colab": {
          "base_uri": "https://localhost:8080/"
        },
        "id": "hrAKGQ90agGx",
        "outputId": "b73da9d1-3ef6-4704-aaf6-d763770822e1"
      },
      "execution_count": 34,
      "outputs": [
        {
          "output_type": "stream",
          "name": "stdout",
          "text": [
            "1 2 3\n"
          ]
        }
      ]
    },
    {
      "cell_type": "code",
      "source": [
        "#Swaping Two values without  third variable\n",
        "\n",
        "a , b = b , a\n",
        "print(a,b)"
      ],
      "metadata": {
        "colab": {
          "base_uri": "https://localhost:8080/"
        },
        "id": "ErwbmtU1csOA",
        "outputId": "17c63baa-7ada-4b32-dd9a-b12c40c0f4f0"
      },
      "execution_count": 35,
      "outputs": [
        {
          "output_type": "stream",
          "name": "stdout",
          "text": [
            "2 1\n"
          ]
        }
      ]
    },
    {
      "cell_type": "code",
      "source": [
        "a,b,*others = (1,2,3,4)\n",
        "print(a,b)\n",
        "print(others) # means  rest  of the values assigned to others which is a  List"
      ],
      "metadata": {
        "colab": {
          "base_uri": "https://localhost:8080/"
        },
        "id": "gkVG_8rnc22K",
        "outputId": "b428d95e-8dd3-4d4a-9b97-25ddc35ada6d"
      },
      "execution_count": 37,
      "outputs": [
        {
          "output_type": "stream",
          "name": "stdout",
          "text": [
            "1 2\n",
            "[3, 4]\n"
          ]
        }
      ]
    },
    {
      "cell_type": "markdown",
      "source": [
        "Zipping Tuple"
      ],
      "metadata": {
        "id": "jaqXGrDQYr7p"
      }
    },
    {
      "cell_type": "code",
      "source": [
        "a = (1,2,3,4)\n",
        "b=(5,6,7,8)\n",
        "print(zip(a,b))\n",
        "print(tuple(zip(a,b)))"
      ],
      "metadata": {
        "colab": {
          "base_uri": "https://localhost:8080/"
        },
        "id": "THX80XPNdPhu",
        "outputId": "f4f50db2-0b7c-474c-97f4-a60734e25862"
      },
      "execution_count": 40,
      "outputs": [
        {
          "output_type": "stream",
          "name": "stdout",
          "text": [
            "<zip object at 0x7961f2cea240>\n",
            "((1, 5), (2, 6), (3, 7), (4, 8))\n"
          ]
        }
      ]
    }
  ]
}