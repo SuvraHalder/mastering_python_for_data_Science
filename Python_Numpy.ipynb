{
  "nbformat": 4,
  "nbformat_minor": 0,
  "metadata": {
    "colab": {
      "provenance": []
    },
    "kernelspec": {
      "name": "python3",
      "display_name": "Python 3"
    },
    "language_info": {
      "name": "python"
    }
  },
  "cells": [
    {
      "cell_type": "markdown",
      "source": [
        "\n",
        "\n",
        "#NumPy\n",
        " is a Python library used for scientific and numerical computing. It provides a special type of object called an ndarray, which is like a powerful, fast version of a list, but for handling numbers.\n",
        "\n",
        "#Key Points:\n",
        "\n",
        "- NumPy arrays (ndarrays) store data in a fixed size and all items must be of the same type (e.g., all integers or all floats).\n",
        "\n",
        "- Unlike regular Python lists, NumPy arrays are more efficient and faster for handling large sets of numbers.\n",
        "\n",
        "- NumPy also includes many tools to do math, statistics, and other complex operations easily.\n",
        "\n",
        "- Many scientific Python libraries use NumPy arrays because they make calculations much faster and easier.\n",
        "\n",
        "- In short: NumPy helps you work with large amounts of numerical data quickly and efficiently."
      ],
      "metadata": {
        "id": "bqMwdWZPMtSu"
      }
    },
    {
      "cell_type": "markdown",
      "source": [
        "#Creating Numpy Array"
      ],
      "metadata": {
        "id": "-IEOFOexNtPX"
      }
    },
    {
      "cell_type": "code",
      "source": [
        "import numpy as np\n",
        "'''\n",
        "\n",
        "'''\n",
        "a = np.array(range(1,11))  #-> as arguement we can give any sequence arguement\n",
        "print(a)"
      ],
      "metadata": {
        "colab": {
          "base_uri": "https://localhost:8080/"
        },
        "id": "avMBByd6NMxD",
        "outputId": "c40cb3d4-52a6-4a42-c38b-2f985cb1c80f"
      },
      "execution_count": 2,
      "outputs": [
        {
          "output_type": "stream",
          "name": "stdout",
          "text": [
            "[ 1  2  3  4  5  6  7  8  9 10]\n"
          ]
        }
      ]
    },
    {
      "cell_type": "code",
      "source": [
        "# 2d and 3d Numpy array\n",
        "\n",
        "b = np.array([[1,2,3],[4,5,6],[7,8,9]])\n",
        "print(b)\n",
        "print(type(b))"
      ],
      "metadata": {
        "colab": {
          "base_uri": "https://localhost:8080/"
        },
        "id": "Ull0PLfULt0z",
        "outputId": "012eca12-fca1-4cf8-e4c9-b2e16d1defb1"
      },
      "execution_count": null,
      "outputs": [
        {
          "output_type": "stream",
          "name": "stdout",
          "text": [
            "[[1 2 3]\n",
            " [4 5 6]\n",
            " [7 8 9]]\n",
            "<class 'numpy.ndarray'>\n"
          ]
        }
      ]
    },
    {
      "cell_type": "code",
      "source": [
        "#dtype\n",
        "b = np.array([1,2,3] , dtype=float) #-> in dtype we can give any datatype of python\n",
        "print(b)\n",
        "\n",
        "\n"
      ],
      "metadata": {
        "colab": {
          "base_uri": "https://localhost:8080/"
        },
        "id": "kJSlJgmtSHPa",
        "outputId": "083510b8-eaf5-48b3-a9aa-7221d2c64877"
      },
      "execution_count": null,
      "outputs": [
        {
          "output_type": "stream",
          "name": "stdout",
          "text": [
            "[1. 2. 3.]\n"
          ]
        }
      ]
    },
    {
      "cell_type": "code",
      "source": [
        "#np.arange\n",
        "\n",
        "np.arange(1,11) #-> similar like range sequence but here it creates numpy array\n"
      ],
      "metadata": {
        "colab": {
          "base_uri": "https://localhost:8080/"
        },
        "id": "H7r-aqY2Sn4X",
        "outputId": "a8afba42-6d7e-45d8-d498-04a30ed48c99"
      },
      "execution_count": null,
      "outputs": [
        {
          "output_type": "execute_result",
          "data": {
            "text/plain": [
              "array([ 1,  2,  3,  4,  5,  6,  7,  8,  9, 10])"
            ]
          },
          "metadata": {},
          "execution_count": 17
        }
      ]
    },
    {
      "cell_type": "code",
      "source": [
        "# with reshape\n",
        "print(np.arange(1,11)) #-> now  lets now i want to reshape it\n",
        "np.arange(1,10).reshape(3,3) #-> now it ir is reshaped 3 rows , 3 columns\n",
        "                             #-> .reshape(nrows, ncolumns)\n",
        "\n"
      ],
      "metadata": {
        "colab": {
          "base_uri": "https://localhost:8080/"
        },
        "id": "I5OS7PlDTgEU",
        "outputId": "7da3864e-69ce-42a2-8564-c8aee86113d0"
      },
      "execution_count": null,
      "outputs": [
        {
          "output_type": "stream",
          "name": "stdout",
          "text": [
            "[ 1  2  3  4  5  6  7  8  9 10]\n"
          ]
        },
        {
          "output_type": "execute_result",
          "data": {
            "text/plain": [
              "array([[1, 2, 3],\n",
              "       [4, 5, 6],\n",
              "       [7, 8, 9]])"
            ]
          },
          "metadata": {},
          "execution_count": 20
        }
      ]
    },
    {
      "cell_type": "code",
      "source": [
        "# np.ones and np.zeros\n",
        "\n",
        "'''\n",
        ".ones  method makes a array filled with ones takes aguement (rows,columns) as tuple\n",
        ".zeros method makes a array filled with zerosntakes aguement (rows,columns) as tuple\n",
        "\n",
        "'''\n",
        "\n",
        "print(np.ones((3,4)))\n",
        "print(np.zeros((3,4)))\n",
        "print(np.ones.__doc__)\n",
        "\n"
      ],
      "metadata": {
        "colab": {
          "base_uri": "https://localhost:8080/"
        },
        "id": "DrPCCcyyU4yx",
        "outputId": "746f1926-2b2a-48ed-e428-c0789c545510"
      },
      "execution_count": null,
      "outputs": [
        {
          "output_type": "stream",
          "name": "stdout",
          "text": [
            "[[1. 1. 1. 1.]\n",
            " [1. 1. 1. 1.]\n",
            " [1. 1. 1. 1.]]\n",
            "[[0. 0. 0. 0.]\n",
            " [0. 0. 0. 0.]\n",
            " [0. 0. 0. 0.]]\n",
            "\n",
            "    Return a new array of given shape and type, filled with ones.\n",
            "\n",
            "    Parameters\n",
            "    ----------\n",
            "    shape : int or sequence of ints\n",
            "        Shape of the new array, e.g., ``(2, 3)`` or ``2``.\n",
            "    dtype : data-type, optional\n",
            "        The desired data-type for the array, e.g., `numpy.int8`.  Default is\n",
            "        `numpy.float64`.\n",
            "    order : {'C', 'F'}, optional, default: C\n",
            "        Whether to store multi-dimensional data in row-major\n",
            "        (C-style) or column-major (Fortran-style) order in\n",
            "        memory.\n",
            "    device : str, optional\n",
            "        The device on which to place the created array. Default: None.\n",
            "        For Array-API interoperability only, so must be ``\"cpu\"`` if passed.\n",
            "\n",
            "        .. versionadded:: 2.0.0\n",
            "    like : array_like, optional\n",
            "        Reference object to allow the creation of arrays which are not\n",
            "        NumPy arrays. If an array-like passed in as ``like`` supports\n",
            "        the ``__array_function__`` protocol, the result will be defined\n",
            "        by it. In this case, it ensures the creation of an array object\n",
            "        compatible with that passed in via this argument.\n",
            "\n",
            "        .. versionadded:: 1.20.0\n",
            "\n",
            "    Returns\n",
            "    -------\n",
            "    out : ndarray\n",
            "        Array of ones with the given shape, dtype, and order.\n",
            "\n",
            "    See Also\n",
            "    --------\n",
            "    ones_like : Return an array of ones with shape and type of input.\n",
            "    empty : Return a new uninitialized array.\n",
            "    zeros : Return a new array setting values to zero.\n",
            "    full : Return a new array of given shape filled with value.\n",
            "\n",
            "    Examples\n",
            "    --------\n",
            "    >>> np.ones(5)\n",
            "    array([1., 1., 1., 1., 1.])\n",
            "\n",
            "    >>> np.ones((5,), dtype=int)\n",
            "    array([1, 1, 1, 1, 1])\n",
            "\n",
            "    >>> np.ones((2, 1))\n",
            "    array([[1.],\n",
            "           [1.]])\n",
            "\n",
            "    >>> s = (2,2)\n",
            "    >>> np.ones(s)\n",
            "    array([[1.,  1.],\n",
            "           [1.,  1.]])\n",
            "\n",
            "    \n"
          ]
        }
      ]
    },
    {
      "cell_type": "code",
      "source": [
        "# np.random\n",
        "\n",
        "a = np.random.random((3,4))\n",
        "b = np.random.randint(0,10,size = (3,3)) #can be\n",
        "print(a)\n",
        "print(b)\n",
        "print(np.random.__doc__)"
      ],
      "metadata": {
        "colab": {
          "base_uri": "https://localhost:8080/"
        },
        "id": "giLAunNUWF07",
        "outputId": "f32bca64-632d-41b5-81ae-afe640aa4754"
      },
      "execution_count": null,
      "outputs": [
        {
          "output_type": "stream",
          "name": "stdout",
          "text": [
            "[[0.81249719 0.93351831 0.26818819 0.1404531 ]\n",
            " [0.31349232 0.22313457 0.41529506 0.74601593]\n",
            " [0.07158557 0.61950966 0.95593966 0.85731234]]\n",
            "[[9 9 1]\n",
            " [2 9 1]\n",
            " [8 0 3]]\n",
            "\n",
            "========================\n",
            "Random Number Generation\n",
            "========================\n",
            "\n",
            "Use ``default_rng()`` to create a `Generator` and call its methods.\n",
            "\n",
            "=============== =========================================================\n",
            "Generator\n",
            "--------------- ---------------------------------------------------------\n",
            "Generator       Class implementing all of the random number distributions\n",
            "default_rng     Default constructor for ``Generator``\n",
            "=============== =========================================================\n",
            "\n",
            "============================================= ===\n",
            "BitGenerator Streams that work with Generator\n",
            "--------------------------------------------- ---\n",
            "MT19937\n",
            "PCG64\n",
            "PCG64DXSM\n",
            "Philox\n",
            "SFC64\n",
            "============================================= ===\n",
            "\n",
            "============================================= ===\n",
            "Getting entropy to initialize a BitGenerator\n",
            "--------------------------------------------- ---\n",
            "SeedSequence\n",
            "============================================= ===\n",
            "\n",
            "\n",
            "Legacy\n",
            "------\n",
            "\n",
            "For backwards compatibility with previous versions of numpy before 1.17, the\n",
            "various aliases to the global `RandomState` methods are left alone and do not\n",
            "use the new `Generator` API.\n",
            "\n",
            "==================== =========================================================\n",
            "Utility functions\n",
            "-------------------- ---------------------------------------------------------\n",
            "random               Uniformly distributed floats over ``[0, 1)``\n",
            "bytes                Uniformly distributed random bytes.\n",
            "permutation          Randomly permute a sequence / generate a random sequence.\n",
            "shuffle              Randomly permute a sequence in place.\n",
            "choice               Random sample from 1-D array.\n",
            "==================== =========================================================\n",
            "\n",
            "==================== =========================================================\n",
            "Compatibility\n",
            "functions - removed\n",
            "in the new API\n",
            "-------------------- ---------------------------------------------------------\n",
            "rand                 Uniformly distributed values.\n",
            "randn                Normally distributed values.\n",
            "ranf                 Uniformly distributed floating point numbers.\n",
            "random_integers      Uniformly distributed integers in a given range.\n",
            "                     (deprecated, use ``integers(..., closed=True)`` instead)\n",
            "random_sample        Alias for `random_sample`\n",
            "randint              Uniformly distributed integers in a given range\n",
            "seed                 Seed the legacy random number generator.\n",
            "==================== =========================================================\n",
            "\n",
            "==================== =========================================================\n",
            "Univariate\n",
            "distributions\n",
            "-------------------- ---------------------------------------------------------\n",
            "beta                 Beta distribution over ``[0, 1]``.\n",
            "binomial             Binomial distribution.\n",
            "chisquare            :math:`\\chi^2` distribution.\n",
            "exponential          Exponential distribution.\n",
            "f                    F (Fisher-Snedecor) distribution.\n",
            "gamma                Gamma distribution.\n",
            "geometric            Geometric distribution.\n",
            "gumbel               Gumbel distribution.\n",
            "hypergeometric       Hypergeometric distribution.\n",
            "laplace              Laplace distribution.\n",
            "logistic             Logistic distribution.\n",
            "lognormal            Log-normal distribution.\n",
            "logseries            Logarithmic series distribution.\n",
            "negative_binomial    Negative binomial distribution.\n",
            "noncentral_chisquare Non-central chi-square distribution.\n",
            "noncentral_f         Non-central F distribution.\n",
            "normal               Normal / Gaussian distribution.\n",
            "pareto               Pareto distribution.\n",
            "poisson              Poisson distribution.\n",
            "power                Power distribution.\n",
            "rayleigh             Rayleigh distribution.\n",
            "triangular           Triangular distribution.\n",
            "uniform              Uniform distribution.\n",
            "vonmises             Von Mises circular distribution.\n",
            "wald                 Wald (inverse Gaussian) distribution.\n",
            "weibull              Weibull distribution.\n",
            "zipf                 Zipf's distribution over ranked data.\n",
            "==================== =========================================================\n",
            "\n",
            "==================== ==========================================================\n",
            "Multivariate\n",
            "distributions\n",
            "-------------------- ----------------------------------------------------------\n",
            "dirichlet            Multivariate generalization of Beta distribution.\n",
            "multinomial          Multivariate generalization of the binomial distribution.\n",
            "multivariate_normal  Multivariate generalization of the normal distribution.\n",
            "==================== ==========================================================\n",
            "\n",
            "==================== =========================================================\n",
            "Standard\n",
            "distributions\n",
            "-------------------- ---------------------------------------------------------\n",
            "standard_cauchy      Standard Cauchy-Lorentz distribution.\n",
            "standard_exponential Standard exponential distribution.\n",
            "standard_gamma       Standard Gamma distribution.\n",
            "standard_normal      Standard normal distribution.\n",
            "standard_t           Standard Student's t-distribution.\n",
            "==================== =========================================================\n",
            "\n",
            "==================== =========================================================\n",
            "Internal functions\n",
            "-------------------- ---------------------------------------------------------\n",
            "get_state            Get tuple representing internal state of generator.\n",
            "set_state            Set state of generator.\n",
            "==================== =========================================================\n",
            "\n",
            "\n",
            "\n"
          ]
        }
      ]
    },
    {
      "cell_type": "code",
      "source": [
        "# np.linspace() -> Creates a numpy array where each point is in equal distances\n",
        "# .linspace(lower_range , upperrange , number of points)\n",
        "\n",
        "print(np.linspace(-10,10,10))\n",
        "print(np.linspace(-10,10,10,dtype=int))\n",
        "\n"
      ],
      "metadata": {
        "colab": {
          "base_uri": "https://localhost:8080/"
        },
        "id": "1jwgRdPKZ02k",
        "outputId": "0a0061e8-a842-4d18-d899-380c7c4d0a8c"
      },
      "execution_count": null,
      "outputs": [
        {
          "output_type": "stream",
          "name": "stdout",
          "text": [
            "[-10.          -7.77777778  -5.55555556  -3.33333333  -1.11111111\n",
            "   1.11111111   3.33333333   5.55555556   7.77777778  10.        ]\n",
            "[-10  -8  -6  -4  -2   1   3   5   7  10]\n"
          ]
        }
      ]
    },
    {
      "cell_type": "code",
      "source": [
        "#n p.identity -> creates identity matrix\n",
        "np.identity(3)"
      ],
      "metadata": {
        "colab": {
          "base_uri": "https://localhost:8080/"
        },
        "id": "Y8z6Y0GbajLi",
        "outputId": "eb20f6d7-6f4b-4cdf-b32d-2ab582f19484"
      },
      "execution_count": null,
      "outputs": [
        {
          "output_type": "execute_result",
          "data": {
            "text/plain": [
              "array([[1., 0., 0.],\n",
              "       [0., 1., 0.],\n",
              "       [0., 0., 1.]])"
            ]
          },
          "metadata": {},
          "execution_count": 39
        }
      ]
    },
    {
      "cell_type": "markdown",
      "source": [
        "#Numpy class Properties\n",
        "\n",
        "Numpy Objects has some propreties which can be get ."
      ],
      "metadata": {
        "id": "C6rce8kleE_o"
      }
    },
    {
      "cell_type": "markdown",
      "source": [
        "### Array Attributes"
      ],
      "metadata": {
        "id": "LphXpjZJtNyI"
      }
    },
    {
      "cell_type": "code",
      "source": [
        "a1 = np.arange(10,dtype=np.int32)\n",
        "a2 = np.arange(12,dtype=float).reshape(3,4)\n",
        "a3 = np.arange(8).reshape(2,2,2)\n",
        "\n",
        "a3"
      ],
      "metadata": {
        "colab": {
          "base_uri": "https://localhost:8080/"
        },
        "id": "UXnB5dIEFOgD",
        "outputId": "d6261278-40ee-4caa-cf15-946552e4e7c0"
      },
      "execution_count": null,
      "outputs": [
        {
          "output_type": "execute_result",
          "data": {
            "text/plain": [
              "array([[[0, 1],\n",
              "        [2, 3]],\n",
              "\n",
              "       [[4, 5],\n",
              "        [6, 7]]])"
            ]
          },
          "metadata": {},
          "execution_count": 110
        }
      ]
    },
    {
      "cell_type": "code",
      "source": [
        "# ndim -> gives dimension\n",
        "a3.ndim"
      ],
      "metadata": {
        "colab": {
          "base_uri": "https://localhost:8080/"
        },
        "id": "qib4oDFptRKN",
        "outputId": "b70741e8-d727-4c59-b6ed-b8fd922501b8"
      },
      "execution_count": null,
      "outputs": [
        {
          "output_type": "execute_result",
          "data": {
            "text/plain": [
              "3"
            ]
          },
          "metadata": {},
          "execution_count": 96
        }
      ]
    },
    {
      "cell_type": "code",
      "source": [
        "# shape -> gives shape\n",
        "\n",
        "print(a3.shape)\n",
        "a3"
      ],
      "metadata": {
        "colab": {
          "base_uri": "https://localhost:8080/"
        },
        "id": "InUvH8KGtSRv",
        "outputId": "d567d4cb-a533-4419-e4de-677dc5dd87bb"
      },
      "execution_count": null,
      "outputs": [
        {
          "output_type": "stream",
          "name": "stdout",
          "text": [
            "(2, 2, 2)\n"
          ]
        },
        {
          "output_type": "execute_result",
          "data": {
            "text/plain": [
              "array([[[0, 1],\n",
              "        [2, 3]],\n",
              "\n",
              "       [[4, 5],\n",
              "        [6, 7]]])"
            ]
          },
          "metadata": {},
          "execution_count": 100
        }
      ]
    },
    {
      "cell_type": "code",
      "source": [
        "# size -> returns total element\n",
        "\n",
        "print(a2.size)\n",
        "a2"
      ],
      "metadata": {
        "colab": {
          "base_uri": "https://localhost:8080/"
        },
        "id": "9Dko5610tT-Z",
        "outputId": "5e8fdaa5-d444-4867-8ad0-3acf299c391e"
      },
      "execution_count": null,
      "outputs": [
        {
          "output_type": "stream",
          "name": "stdout",
          "text": [
            "12\n"
          ]
        },
        {
          "output_type": "execute_result",
          "data": {
            "text/plain": [
              "array([[ 0.,  1.,  2.,  3.],\n",
              "       [ 4.,  5.,  6.,  7.],\n",
              "       [ 8.,  9., 10., 11.]])"
            ]
          },
          "metadata": {},
          "execution_count": 103
        }
      ]
    },
    {
      "cell_type": "code",
      "source": [
        "# itemsize -> how much memory taken by array\n",
        "\n",
        "a3.itemsize"
      ],
      "metadata": {
        "colab": {
          "base_uri": "https://localhost:8080/"
        },
        "id": "wDFdHtH3tV1Z",
        "outputId": "dd8bf2cd-bc17-4d6c-ae17-06ae052ab711"
      },
      "execution_count": null,
      "outputs": [
        {
          "output_type": "execute_result",
          "data": {
            "text/plain": [
              "8"
            ]
          },
          "metadata": {},
          "execution_count": 112
        }
      ]
    },
    {
      "cell_type": "code",
      "source": [
        "# dtype\n",
        "\n",
        "print(a1.dtype)\n",
        "print(a2.dtype)\n",
        "print(a3.dtype)\n",
        "\n"
      ],
      "metadata": {
        "colab": {
          "base_uri": "https://localhost:8080/"
        },
        "id": "Pik7FgEVtXDj",
        "outputId": "00b7b1ad-d200-4c7c-e440-ba3c05928073"
      },
      "execution_count": null,
      "outputs": [
        {
          "output_type": "stream",
          "name": "stdout",
          "text": [
            "int32\n",
            "float64\n",
            "int64\n"
          ]
        }
      ]
    },
    {
      "cell_type": "markdown",
      "source": [
        "# Changing Datatype"
      ],
      "metadata": {
        "id": "SrVJ1AHbkhak"
      }
    },
    {
      "cell_type": "code",
      "source": [
        "#as type\n",
        "\n",
        "a3.astype(np.int32) # C"
      ],
      "metadata": {
        "id": "JVGypqf0kk0G"
      },
      "execution_count": null,
      "outputs": []
    },
    {
      "cell_type": "markdown",
      "source": [
        "# Array Operations\n"
      ],
      "metadata": {
        "id": "AsHNq4X2kVmW"
      }
    },
    {
      "cell_type": "code",
      "source": [
        "a1 = np.arange(12).reshape(3,4)\n",
        "a2 = np.arange(12,24).reshape(3,4)\n",
        "print(a1,a2,sep=\"\\n\")"
      ],
      "metadata": {
        "id": "OeuoMdKybhHq",
        "colab": {
          "base_uri": "https://localhost:8080/"
        },
        "outputId": "d79be0e9-a22e-446c-af17-db0ffb039a70"
      },
      "execution_count": 7,
      "outputs": [
        {
          "output_type": "stream",
          "name": "stdout",
          "text": [
            "[[ 0  1  2  3]\n",
            " [ 4  5  6  7]\n",
            " [ 8  9 10 11]]\n",
            "[[12 13 14 15]\n",
            " [16 17 18 19]\n",
            " [20 21 22 23]]\n"
          ]
        }
      ]
    },
    {
      "cell_type": "code",
      "source": [
        "'''\n",
        "Scalar Operations ,addition , multipication , substraction , divison , **exponent\n",
        "\n",
        "'''\n",
        "\n",
        "# Arithmetic\n",
        "\n",
        "a3 = a1 + 5  # -> Addition is Supported\n",
        "print(a3)\n",
        "\n",
        "\n",
        "#relational operators\n",
        "\n",
        "print(a2 > 5) # Checks every Element in Matrices is Greater than 5 .\n",
        "print(a2==16)\n",
        "\n",
        "\n",
        "\n"
      ],
      "metadata": {
        "id": "6klrgaDGj0L8",
        "colab": {
          "base_uri": "https://localhost:8080/"
        },
        "outputId": "3d155913-cb99-4e2d-c923-35f527c68b32"
      },
      "execution_count": 13,
      "outputs": [
        {
          "output_type": "stream",
          "name": "stdout",
          "text": [
            "[[ 5  6  7  8]\n",
            " [ 9 10 11 12]\n",
            " [13 14 15 16]]\n",
            "[[ True  True  True  True]\n",
            " [ True  True  True  True]\n",
            " [ True  True  True  True]]\n",
            "[[False False False False]\n",
            " [ True False False False]\n",
            " [False False False False]]\n"
          ]
        }
      ]
    },
    {
      "cell_type": "code",
      "source": [
        "# Vector Operations\n",
        "print(a1 + a2, a1 - a2 , a1 *a2 , a1//a2 , sep=\"\\n\")"
      ],
      "metadata": {
        "colab": {
          "base_uri": "https://localhost:8080/"
        },
        "id": "mSFwjKaGNkkl",
        "outputId": "dac9f51e-9a4b-41c0-b784-871d93d84816"
      },
      "execution_count": 17,
      "outputs": [
        {
          "output_type": "stream",
          "name": "stdout",
          "text": [
            "[[12 14 16 18]\n",
            " [20 22 24 26]\n",
            " [28 30 32 34]]\n",
            "[[-12 -12 -12 -12]\n",
            " [-12 -12 -12 -12]\n",
            " [-12 -12 -12 -12]]\n",
            "[[  0  13  28  45]\n",
            " [ 64  85 108 133]\n",
            " [160 189 220 253]]\n",
            "[[0 0 0 0]\n",
            " [0 0 0 0]\n",
            " [0 0 0 0]]\n"
          ]
        }
      ]
    },
    {
      "cell_type": "markdown",
      "source": [
        "#Array Functions"
      ],
      "metadata": {
        "id": "jozMsppkOKPB"
      }
    },
    {
      "cell_type": "code",
      "source": [
        "a1 = np.random.random((3,4))\n",
        "print(a1)\n",
        "\n",
        "a1 = np.round(a1*100)\n",
        "a1"
      ],
      "metadata": {
        "colab": {
          "base_uri": "https://localhost:8080/"
        },
        "id": "TQPL2faQOGLX",
        "outputId": "8c1238eb-8734-4e42-d731-7d142c036fc6"
      },
      "execution_count": 23,
      "outputs": [
        {
          "output_type": "stream",
          "name": "stdout",
          "text": [
            "[[0.88444163 0.17295448 0.93382551 0.94703429]\n",
            " [0.48338267 0.79491525 0.3992041  0.07617776]\n",
            " [0.40473245 0.38103113 0.07955507 0.06669374]]\n"
          ]
        },
        {
          "output_type": "execute_result",
          "data": {
            "text/plain": [
              "array([[88., 17., 93., 95.],\n",
              "       [48., 79., 40.,  8.],\n",
              "       [40., 38.,  8.,  7.]])"
            ]
          },
          "metadata": {},
          "execution_count": 23
        }
      ]
    },
    {
      "cell_type": "code",
      "source": [
        "'''\n",
        "Aggregate Functions in a single array\n",
        "\n",
        "max\n",
        "min\n",
        "sum\n",
        "prod\n",
        "\n",
        "'''\n",
        "\n",
        "print((np.max(a1)))\n",
        "print(np.sum(a1))\n",
        "print(np.min(a1))\n",
        "print(np.prod(a1))\n",
        "\n",
        "'''\n",
        "What if Someone said i want aggregate with in a Row or column\n",
        "axis 0 -> column\n",
        "axis = 1 -> row\n",
        "'''\n",
        "\n",
        "print(np.max(a1,axis=1))\n",
        "print(np.sum(a1,axis=1))\n",
        "print(np.min(a1,axis=1))\n",
        "print(np.prod(a1,axis=1))\n"
      ],
      "metadata": {
        "colab": {
          "base_uri": "https://localhost:8080/"
        },
        "id": "DvwQe3deOyGK",
        "outputId": "d2394493-b43a-421e-fa50-15c9cbaa8925"
      },
      "execution_count": 32,
      "outputs": [
        {
          "output_type": "stream",
          "name": "stdout",
          "text": [
            "95.0\n",
            "561.0\n",
            "7.0\n",
            "1.365174191259648e+18\n",
            "[95. 79. 40.]\n",
            "[293. 175.  93.]\n",
            "[17.  8.  7.]\n",
            "[13217160.  1213440.    85120.]\n"
          ]
        }
      ]
    },
    {
      "cell_type": "code",
      "source": [
        "'''\n",
        "Statistics Operations\n",
        "mean\n",
        "median\n",
        "std\n",
        "var\n",
        "\n",
        "What if Someone said i want aggregate with in a Row or column\n",
        "axis 0 -> column\n",
        "axis = 1 -> row\n",
        "\n",
        "'''\n",
        "\n",
        "print(np.mean(a1))\n",
        "print(np.median(a2))\n",
        "print(np.std(a1))\n",
        "\n"
      ],
      "metadata": {
        "colab": {
          "base_uri": "https://localhost:8080/"
        },
        "id": "gwqbMoNIRKCL",
        "outputId": "44420a61-d3b5-4742-fc58-3758618bbf4c"
      },
      "execution_count": 36,
      "outputs": [
        {
          "output_type": "stream",
          "name": "stdout",
          "text": [
            "46.75\n",
            "17.5\n",
            "32.71881466883135\n"
          ]
        }
      ]
    },
    {
      "cell_type": "code",
      "source": [
        "'''\n",
        "Trigo Functions\n",
        "Not much useful\n",
        "\n",
        "'''\n",
        "\n",
        "np.sin(a1)\n"
      ],
      "metadata": {
        "id": "DsHFXskqP9nR"
      },
      "execution_count": null,
      "outputs": []
    },
    {
      "cell_type": "code",
      "source": [
        "'''\n",
        "Dot Product -> MatriX Multipication\n",
        "here\n",
        "Row of a1 = Column of a2\n",
        "\n",
        "'''\n",
        "\n",
        "a1 = np.arange(12).reshape(3,4)\n",
        "a2 = np.arange(12,24).reshape(4,3)\n",
        "print(a1,a2,sep=\"\\n\")\n",
        "\n",
        "np.dot(a1,a2)\n",
        "\n"
      ],
      "metadata": {
        "colab": {
          "base_uri": "https://localhost:8080/"
        },
        "id": "IUabOqlUR-id",
        "outputId": "4e1bf1b9-370c-40fa-bbff-ebe207ae57d1"
      },
      "execution_count": 41,
      "outputs": [
        {
          "output_type": "stream",
          "name": "stdout",
          "text": [
            "[[ 0  1  2  3]\n",
            " [ 4  5  6  7]\n",
            " [ 8  9 10 11]]\n",
            "[[12 13 14]\n",
            " [15 16 17]\n",
            " [18 19 20]\n",
            " [21 22 23]]\n"
          ]
        },
        {
          "output_type": "execute_result",
          "data": {
            "text/plain": [
              "array([[114, 120, 126],\n",
              "       [378, 400, 422],\n",
              "       [642, 680, 718]])"
            ]
          },
          "metadata": {},
          "execution_count": 41
        }
      ]
    },
    {
      "cell_type": "code",
      "source": [
        "'''\n",
        "Log and  Exponents\n",
        "\n",
        "'''\n",
        "\n",
        "np.log(a1)\n",
        "np.exp(a2)\n",
        "\n"
      ],
      "metadata": {
        "colab": {
          "base_uri": "https://localhost:8080/"
        },
        "id": "lWdbsEmXS13S",
        "outputId": "07a125f2-7574-4207-f8d2-dd034d179d29"
      },
      "execution_count": 43,
      "outputs": [
        {
          "output_type": "stream",
          "name": "stderr",
          "text": [
            "/tmp/ipython-input-43-3653093884.py:6: RuntimeWarning: divide by zero encountered in log\n",
            "  np.log(a1)\n"
          ]
        },
        {
          "output_type": "execute_result",
          "data": {
            "text/plain": [
              "array([[1.62754791e+05, 4.42413392e+05, 1.20260428e+06],\n",
              "       [3.26901737e+06, 8.88611052e+06, 2.41549528e+07],\n",
              "       [6.56599691e+07, 1.78482301e+08, 4.85165195e+08],\n",
              "       [1.31881573e+09, 3.58491285e+09, 9.74480345e+09]])"
            ]
          },
          "metadata": {},
          "execution_count": 43
        }
      ]
    },
    {
      "cell_type": "code",
      "source": [
        "'''\n",
        "round\n",
        "floor\n",
        "ceil\n",
        "\n",
        "'''\n",
        "\n",
        "\n",
        "np.round(np.random.random((3,4)))\n",
        "np.floor(np.random.random((3,4)))\n",
        "np.ceil(np.random.random((3,4)))"
      ],
      "metadata": {
        "colab": {
          "base_uri": "https://localhost:8080/"
        },
        "id": "e3hQ4VwtTJab",
        "outputId": "b7a02eb3-fccd-4c33-b43c-3befd00a09a8"
      },
      "execution_count": 45,
      "outputs": [
        {
          "output_type": "execute_result",
          "data": {
            "text/plain": [
              "array([[1., 1., 1., 1.],\n",
              "       [1., 1., 1., 1.],\n",
              "       [1., 1., 1., 1.]])"
            ]
          },
          "metadata": {},
          "execution_count": 45
        }
      ]
    },
    {
      "cell_type": "markdown",
      "source": [
        "#Indexing and Slicing"
      ],
      "metadata": {
        "id": "wzkzje8FTqgt"
      }
    },
    {
      "cell_type": "code",
      "source": [
        "a1 = np.arange(10)\n",
        "a2 = np.arange(12).reshape(3,4)\n",
        "a3 = np.arange(8).reshape(2,2,2)\n",
        "print(a3)"
      ],
      "metadata": {
        "colab": {
          "base_uri": "https://localhost:8080/"
        },
        "id": "rM3z986QTqPy",
        "outputId": "dd907e17-1b1b-440c-d0dc-559f938905c3"
      },
      "execution_count": 50,
      "outputs": [
        {
          "output_type": "stream",
          "name": "stdout",
          "text": [
            "[[[0 1]\n",
            "  [2 3]]\n",
            "\n",
            " [[4 5]\n",
            "  [6 7]]]\n"
          ]
        }
      ]
    },
    {
      "cell_type": "code",
      "source": [
        "'''\n",
        "Simple 1d array we Access elements by simple array\n",
        "\n",
        "'''\n",
        "\n",
        "print(a1)\n",
        "print(a1[3])\n",
        "print(a1[-1])\n",
        "print(a1[0:3])\n",
        "print(a1[0::2])\n"
      ],
      "metadata": {
        "colab": {
          "base_uri": "https://localhost:8080/"
        },
        "id": "3WwTL6KBUvl4",
        "outputId": "1bbf606a-11b1-4184-a996-16828cf4979c"
      },
      "execution_count": 57,
      "outputs": [
        {
          "output_type": "stream",
          "name": "stdout",
          "text": [
            "[0 1 2 3 4 5 6 7 8 9]\n",
            "3\n",
            "9\n",
            "[0 1 2]\n",
            "[0 2 4 6 8]\n"
          ]
        }
      ]
    },
    {
      "cell_type": "code",
      "source": [
        "#2d\n",
        "\n",
        "print(a2)\n",
        "print(a2[1,2]) #-> A2[ROW,COLUMN] tO Access Elements\n",
        "print(a2[1:9]) # -> Slicing is Done Linearly 🔍 Explanation:\n",
        "\n",
        "a2[0:2,0:2] #-> a2[start_row:end_row, start_col:end_col]\n",
        "print(a2[1:3,1:3])\n",
        "\n",
        "\n",
        "print(a2[::2,1::2])\n",
        "print(a2[1,::3])\n",
        "print(a2[:2,1:])"
      ],
      "metadata": {
        "colab": {
          "base_uri": "https://localhost:8080/"
        },
        "id": "gdwb90DYVKDT",
        "outputId": "9bff6f8c-ebff-454b-f777-b2914e3ddd74"
      },
      "execution_count": 87,
      "outputs": [
        {
          "output_type": "stream",
          "name": "stdout",
          "text": [
            "[[ 0  1  2  3]\n",
            " [ 4  5  6  7]\n",
            " [ 8  9 10 11]]\n",
            "6\n",
            "[[ 4  5  6  7]\n",
            " [ 8  9 10 11]]\n",
            "[[ 5  6]\n",
            " [ 9 10]]\n",
            "[[ 1  3]\n",
            " [ 9 11]]\n",
            "[4 7]\n",
            "[[1 2 3]\n",
            " [5 6 7]]\n"
          ]
        }
      ]
    },
    {
      "cell_type": "code",
      "source": [
        "print(a3)\n",
        "print(a3[1,0,1]) # -> A3[NO_OF WHICH 2D ARRAY , ROW , THEN COLUMN]\n",
        "print(a3[0,0,0])\n",
        "'''\n",
        "Koto number 2d array te ache ?\n",
        "then\n",
        "2D array Te koto number row and column ai ache\n",
        "\n",
        "'''\n",
        "#Slicing\n",
        "\n",
        "a3 = np.arange(27).reshape(3,3,3)\n",
        "print(a3)\n",
        "\n",
        "print(a3[1][1:3,1:3])\n",
        "\n"
      ],
      "metadata": {
        "colab": {
          "base_uri": "https://localhost:8080/"
        },
        "id": "SuDUCrlwVVG7",
        "outputId": "2d594e2a-d171-4aaa-f41d-224ee312014c"
      },
      "execution_count": 94,
      "outputs": [
        {
          "output_type": "stream",
          "name": "stdout",
          "text": [
            "[[[ 0  1  2]\n",
            "  [ 3  4  5]\n",
            "  [ 6  7  8]]\n",
            "\n",
            " [[ 9 10 11]\n",
            "  [12 13 14]\n",
            "  [15 16 17]]\n",
            "\n",
            " [[18 19 20]\n",
            "  [21 22 23]\n",
            "  [24 25 26]]]\n",
            "10\n",
            "0\n",
            "[[[ 0  1  2]\n",
            "  [ 3  4  5]\n",
            "  [ 6  7  8]]\n",
            "\n",
            " [[ 9 10 11]\n",
            "  [12 13 14]\n",
            "  [15 16 17]]\n",
            "\n",
            " [[18 19 20]\n",
            "  [21 22 23]\n",
            "  [24 25 26]]]\n",
            "[[13 14]\n",
            " [16 17]]\n"
          ]
        }
      ]
    },
    {
      "cell_type": "code",
      "source": [
        "a3[::2,0,0:3:2] #a3[depth,row,column]"
      ],
      "metadata": {
        "colab": {
          "base_uri": "https://localhost:8080/"
        },
        "id": "BZ4VO9IKWfB_",
        "outputId": "17b1b6db-fae9-4352-d75a-3f66727f1d31"
      },
      "execution_count": 95,
      "outputs": [
        {
          "output_type": "execute_result",
          "data": {
            "text/plain": [
              "array([[ 0,  2],\n",
              "       [18, 20]])"
            ]
          },
          "metadata": {},
          "execution_count": 95
        }
      ]
    },
    {
      "cell_type": "markdown",
      "source": [
        "#Iterating"
      ],
      "metadata": {
        "id": "QsZvns8mjbBd"
      }
    },
    {
      "cell_type": "code",
      "source": [
        "#1d\n",
        "print(a1)\n",
        "\n",
        "for i in a1:\n",
        "  print(i,end=\" \")\n"
      ],
      "metadata": {
        "colab": {
          "base_uri": "https://localhost:8080/"
        },
        "id": "SM1AsT6Mjc7A",
        "outputId": "1c08a600-efe0-44ca-bdb6-dd1a0e9f55bd"
      },
      "execution_count": 98,
      "outputs": [
        {
          "output_type": "stream",
          "name": "stdout",
          "text": [
            "[0 1 2 3 4 5 6 7 8 9]\n",
            "0 1 2 3 4 5 6 7 8 9 "
          ]
        }
      ]
    },
    {
      "cell_type": "code",
      "source": [
        "#2d\n",
        "print(a2)\n",
        "\n",
        "for i in a2: # one time ai one row print hoy\n",
        "  print(i)\n",
        "\n",
        "for i in np.nditer(a2): #np.nditer() using we access any element one by one\n",
        "  print(i,end=\" \")\n",
        ""
      ],
      "metadata": {
        "colab": {
          "base_uri": "https://localhost:8080/"
        },
        "id": "M8Jp9zR9jm1h",
        "outputId": "e6790fd1-9b46-447b-fc93-82660669577a"
      },
      "execution_count": 103,
      "outputs": [
        {
          "output_type": "stream",
          "name": "stdout",
          "text": [
            "[[ 0  1  2  3]\n",
            " [ 4  5  6  7]\n",
            " [ 8  9 10 11]]\n",
            "[0 1 2 3]\n",
            "[4 5 6 7]\n",
            "[ 8  9 10 11]\n",
            "0 1 2 3 4 5 6 7 8 9 10 11 "
          ]
        }
      ]
    },
    {
      "cell_type": "code",
      "source": [
        "#3d\n",
        "\n",
        "for i in a3:\n",
        "  print(i)\n",
        "\n",
        "for i in np.nditer(a3): #np.nditer  using we access any element one by one\n",
        "  print(i,end=\" \")"
      ],
      "metadata": {
        "colab": {
          "base_uri": "https://localhost:8080/"
        },
        "id": "LPaDqiiokAm8",
        "outputId": "2776eb23-17c3-41b7-dc27-6f8b45b33edf"
      },
      "execution_count": 104,
      "outputs": [
        {
          "output_type": "stream",
          "name": "stdout",
          "text": [
            "[[0 1 2]\n",
            " [3 4 5]\n",
            " [6 7 8]]\n",
            "[[ 9 10 11]\n",
            " [12 13 14]\n",
            " [15 16 17]]\n",
            "[[18 19 20]\n",
            " [21 22 23]\n",
            " [24 25 26]]\n",
            "0 1 2 3 4 5 6 7 8 9 10 11 12 13 14 15 16 17 18 19 20 21 22 23 24 25 26 "
          ]
        }
      ]
    },
    {
      "cell_type": "markdown",
      "source": [
        "#Shaping"
      ],
      "metadata": {
        "id": "HtFKFb5vknT1"
      }
    },
    {
      "cell_type": "code",
      "source": [
        "# np.reshape() function we learned earlier"
      ],
      "metadata": {
        "id": "-WcUiV-zlXX6"
      },
      "execution_count": null,
      "outputs": []
    },
    {
      "cell_type": "code",
      "source": [
        "\n",
        "# Transpose\n",
        "print(a2)\n",
        "print(np.transpose(a2))\n"
      ],
      "metadata": {
        "colab": {
          "base_uri": "https://localhost:8080/"
        },
        "id": "9O_G89rxk0ii",
        "outputId": "4f89d9b2-2755-4500-8cdc-37129bb8577c"
      },
      "execution_count": 106,
      "outputs": [
        {
          "output_type": "stream",
          "name": "stdout",
          "text": [
            "[[ 0  1  2  3]\n",
            " [ 4  5  6  7]\n",
            " [ 8  9 10 11]]\n",
            "[[ 0  4  8]\n",
            " [ 1  5  9]\n",
            " [ 2  6 10]\n",
            " [ 3  7 11]]\n"
          ]
        }
      ]
    },
    {
      "cell_type": "code",
      "source": [
        "#Ravel\n",
        "\n",
        "'''\n",
        "Changes Matrices to 1d array\n",
        "'''\n",
        "print(np.ravel(a3))\n"
      ],
      "metadata": {
        "colab": {
          "base_uri": "https://localhost:8080/"
        },
        "id": "VmHO0AzulE0O",
        "outputId": "d949fbdd-7241-43f5-f2e7-4f96714a63d1"
      },
      "execution_count": 107,
      "outputs": [
        {
          "output_type": "stream",
          "name": "stdout",
          "text": [
            "[ 0  1  2  3  4  5  6  7  8  9 10 11 12 13 14 15 16 17 18 19 20 21 22 23\n",
            " 24 25 26]\n"
          ]
        }
      ]
    },
    {
      "cell_type": "markdown",
      "source": [
        "#Stacking"
      ],
      "metadata": {
        "id": "N6bUglCzlRQP"
      }
    },
    {
      "cell_type": "code",
      "source": [
        "'''\n",
        "\n",
        "We can merge Two Arrays\n",
        "\n",
        "There are two ways we can stack two arrays\n",
        "\n",
        "-- Horizontally\n",
        "-- Vertically\n",
        "\n",
        "method -->\n",
        "\n",
        "np.hstack((a1,a2,a3,....))  -> tuple of arrays will go as Arguement\n",
        "np.vstack((a1,a2,a3,.....))\n",
        "\n",
        "'''\n",
        "\n",
        "a4 = np.arange(12).reshape(3,4)\n",
        "a5 = np.arange(12,24).reshape(3,4)\n",
        "print(a4)\n",
        "print(a5)\n",
        "\n",
        "print()\n",
        "\n",
        "print(\"Horizontal Join ->\",sep = \" \")\n",
        "print(np.hstack((a4,a5)))\n",
        "\n",
        "print()\n",
        "\n",
        "print(\"Vertical Join ->\",sep = \" \")\n",
        "print(np.vstack((a4,a5)))"
      ],
      "metadata": {
        "colab": {
          "base_uri": "https://localhost:8080/"
        },
        "id": "m4LrMsP0lS6V",
        "outputId": "3fca6eed-ae1e-4123-b1bf-4e9447dce832"
      },
      "execution_count": 115,
      "outputs": [
        {
          "output_type": "stream",
          "name": "stdout",
          "text": [
            "[[ 0  1  2  3]\n",
            " [ 4  5  6  7]\n",
            " [ 8  9 10 11]]\n",
            "[[12 13 14 15]\n",
            " [16 17 18 19]\n",
            " [20 21 22 23]]\n",
            "\n",
            "Horizontal Join ->\n",
            "[[ 0  1  2  3 12 13 14 15]\n",
            " [ 4  5  6  7 16 17 18 19]\n",
            " [ 8  9 10 11 20 21 22 23]]\n",
            "\n",
            "Vertical Join ->\n",
            "[[ 0  1  2  3]\n",
            " [ 4  5  6  7]\n",
            " [ 8  9 10 11]\n",
            " [12 13 14 15]\n",
            " [16 17 18 19]\n",
            " [20 21 22 23]]\n"
          ]
        }
      ]
    },
    {
      "cell_type": "markdown",
      "source": [
        "# Spliting"
      ],
      "metadata": {
        "id": "TW7TPSDdnGCy"
      }
    },
    {
      "cell_type": "code",
      "source": [
        "'''\n",
        "Oppsite of Stacking\n",
        "\n",
        "here we  Split our Arrays\n",
        "\n",
        "np.hsplit(arrayName,number of Arrays you want to split) -> Split Array Vertically\n",
        "np.vsplit(arrayName,number of Arrays you want to split) -> Split Array horizontally\n",
        "\n",
        "'''\n",
        "\n",
        "print(a4)\n",
        "\n",
        "print(np.hsplit(a4,2))\n",
        "\n",
        "\n",
        "print(np.vsplit(a4,1))\n"
      ],
      "metadata": {
        "colab": {
          "base_uri": "https://localhost:8080/"
        },
        "id": "BK7U1bhEnFqG",
        "outputId": "627dfac9-ddb6-40bf-a86b-40e2ce4cb6e2"
      },
      "execution_count": 120,
      "outputs": [
        {
          "output_type": "stream",
          "name": "stdout",
          "text": [
            "[[ 0  1  2  3]\n",
            " [ 4  5  6  7]\n",
            " [ 8  9 10 11]]\n",
            "[array([[0, 1],\n",
            "       [4, 5],\n",
            "       [8, 9]]), array([[ 2,  3],\n",
            "       [ 6,  7],\n",
            "       [10, 11]])]\n",
            "[array([[ 0,  1,  2,  3],\n",
            "       [ 4,  5,  6,  7],\n",
            "       [ 8,  9, 10, 11]])]\n"
          ]
        }
      ]
    }
  ]
}